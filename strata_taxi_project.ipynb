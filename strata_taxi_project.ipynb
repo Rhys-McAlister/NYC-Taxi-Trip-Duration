{
 "cells": [
  {
   "attachments": {},
   "cell_type": "markdown",
   "metadata": {},
   "source": [
    "Assignment\n",
    "This coding challenge is designed to test your skill and intuition about real world data. For the challenge, we will use data collected by the New York City Taxi and Limousine commission about “Green” Taxis. Green Taxis (as opposed to yellow ones) are taxis that are not allowed to pick up passengers inside of the densely populated areas of Manhattan. We will use the data from September 2015.\n",
    "\n",
    "Question 1\n",
    "Programmatically download and load into your favorite analytical tool the trip data for September 2015\n",
    "Report how many rows and columns of data you have loaded.\n",
    "Question 2\n",
    "Plot a histogram of the number of the trip distance (“Trip Distance”)\n",
    "Report any structure you find and any hypotheses you have about that structure\n",
    "Question 3\n",
    "Report mean and median trip distance grouped by hour of day.\n",
    "We’d like to get a rough sense of identifying trips that originate or terminate at one of the NYC area airports. Can you provide a count of how many transactions fit this criteria, the average fair, and any other interesting characteristics of these trips\n",
    "Question 4\n",
    "Build a derived variable for tip as a percentage of the total fare.\n",
    "Build a predictive model for tip as a percentage of the total fare. Use as much of the data as you like (or all of it). We will validate a sample.\n",
    "Question 5\n",
    "Choose only one of these options to answer for Question 5. There is no preference as to which one you choose. Please select the question that you feel your particular skills and/or expertise are best suited to. If you answer more than one, only the first will be scored.\n",
    "\n",
    "Option A: Distributions\n",
    "\n",
    "Build a derived variable representing the average speed over the course of a trip.\n",
    "Can you perform a test to determine if the average trip speeds are materially the same in all weeks of September? If you decide they are not the same, can you form a hypothesis regarding why they differ?\n",
    "Can you build up a hypothesis of average trip speed as a function of time of day?\n",
    "Option B: Visualization\n",
    "\n",
    "Can you build a visualization (interactive or static) of the trip data that helps us understand intra- vs. inter-borough traffic? What story does it tell about how New Yorkers use their green taxis?\n",
    "Option C: Search\n",
    "\n",
    "We’re thinking about promoting ride sharing. Build a function that given point a point P, find the k trip origination points nearest P.\n",
    "For this question, point P would be a taxi ride starting location picked by us at a given LAT-LONG.\n",
    "As an extra layer of complexity, consider the time for pickups, so this could eventually be used for real time ride sharing matching.\n",
    "Please explain not only how this can be computed, but how efficient your approach is (time and space complexity)\n",
    "Option D: Anomaly Detection\n",
    "\n",
    "What anomalies can you find in the data? Did taxi traffic or behavior deviate from the norm on a particular day/time or in a particular location?\n",
    "Using time-series analysis, clustering, or some other method, please develop a process/methodology to identify out of the norm behavior and attempt to explain why those anomalies occurred.\n",
    "Option E: Your own curiosity! --- If the data leaps out and screams some question of you that we haven’t asked, ask it and answer it! Use this as an opportunity to highlight your special skills and philosophies.\n",
    "\n"
   ]
  },
  {
   "cell_type": "code",
   "execution_count": 1,
   "metadata": {},
   "outputs": [],
   "source": [
    "import pandas as pd"
   ]
  },
  {
   "attachments": {},
   "cell_type": "markdown",
   "metadata": {},
   "source": [
    "The `:02d` part is a string formatting syntax that specifies how to format the month variable. The `d` stands for decimal integer, and the `02` specifies that the integer should be zero-padded to 2 digits. For example, if the month variable is 1, then `{month:02d}` would be formatted as `01`."
   ]
  },
  {
   "cell_type": "code",
   "execution_count": null,
   "metadata": {},
   "outputs": [],
   "source": [
    "def read_taxi_data(year, month):\n",
    "    url = f\"https://s3.amazonaws.com/nyc-tlc/trip+data/yellow_tripdata_{year}-{month:02d}.csv\"\n",
    "    url = f\"https://d37ci6vzurychx.cloudfront.net/trip-data/green_tripdata_{year}-{month}.parquet\"\n",
    "    df = pd.read_parquet(url)\n",
    "    return df\n",
    "\n",
    "df = read_taxi_data(2019, 1)"
   ]
  }
 ],
 "metadata": {
  "kernelspec": {
   "display_name": "loll",
   "language": "python",
   "name": "python3"
  },
  "language_info": {
   "codemirror_mode": {
    "name": "ipython",
    "version": 3
   },
   "file_extension": ".py",
   "mimetype": "text/x-python",
   "name": "python",
   "nbconvert_exporter": "python",
   "pygments_lexer": "ipython3",
   "version": "3.11.0"
  },
  "orig_nbformat": 4
 },
 "nbformat": 4,
 "nbformat_minor": 2
}
