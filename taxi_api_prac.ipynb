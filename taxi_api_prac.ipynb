{
 "cells": [
  {
   "cell_type": "code",
   "execution_count": 1,
   "metadata": {},
   "outputs": [],
   "source": [
    "import pandas as pd\n",
    "from sklearn.model_selection import train_test_split\n",
    "from sklearn.metrics import mean_squared_error\n",
    "from sklearn.metrics import mean_squared_error as MSE\n",
    "import lightgbm as lgb\n",
    "from lightgbm import LGBMRegressor\n",
    "import numpy as np\n",
    "from sklearn.ensemble import RandomForestRegressor\n",
    "from sklearn.linear_model import LinearRegression\n",
    "import matplotlib.pyplot as plt\n",
    "from sodapy import Socrata\n"
   ]
  },
  {
   "cell_type": "code",
   "execution_count": 63,
   "metadata": {},
   "outputs": [
    {
     "name": "stderr",
     "output_type": "stream",
     "text": [
      "WARNING:root:Requests made without an app_token will be subject to strict throttling limits.\n"
     ]
    }
   ],
   "source": [
    "client = Socrata(\"data.cityofnewyork.us\", None)\n",
    "results = client.get(\"m6nq-qud6\", limit=2000)\n",
    "\n",
    "# Convert to pandas DataFrame\n",
    "results_df = pd.DataFrame.from_records(results)"
   ]
  },
  {
   "cell_type": "code",
   "execution_count": 2,
   "metadata": {},
   "outputs": [],
   "source": [
    "df = pd.read_csv('https://data.cityofnewyork.us/resource/djnb-wcxt.csv')"
   ]
  },
  {
   "cell_type": "code",
   "execution_count": 3,
   "metadata": {},
   "outputs": [
    {
     "name": "stdout",
     "output_type": "stream",
     "text": [
      "<class 'pandas.core.frame.DataFrame'>\n",
      "RangeIndex: 1000 entries, 0 to 999\n",
      "Data columns (total 20 columns):\n",
      " #   Column                 Non-Null Count  Dtype  \n",
      "---  ------                 --------------  -----  \n",
      " 0   vendorid               998 non-null    float64\n",
      " 1   lpep_pickup_datetime   1000 non-null   object \n",
      " 2   lpep_dropoff_datetime  1000 non-null   object \n",
      " 3   store_and_fwd_flag     998 non-null    object \n",
      " 4   ratecodeid             998 non-null    float64\n",
      " 5   pulocationid           1000 non-null   int64  \n",
      " 6   dolocationid           1000 non-null   int64  \n",
      " 7   passenger_count        998 non-null    float64\n",
      " 8   trip_distance          1000 non-null   float64\n",
      " 9   fare_amount            1000 non-null   float64\n",
      " 10  extra                  1000 non-null   float64\n",
      " 11  mta_tax                1000 non-null   float64\n",
      " 12  tip_amount             1000 non-null   float64\n",
      " 13  tolls_amount           1000 non-null   float64\n",
      " 14  ehail_fee              0 non-null      float64\n",
      " 15  improvement_surcharge  1000 non-null   float64\n",
      " 16  total_amount           1000 non-null   float64\n",
      " 17  payment_type           998 non-null    float64\n",
      " 18  trip_type              998 non-null    float64\n",
      " 19  congestion_surcharge   998 non-null    float64\n",
      "dtypes: float64(15), int64(2), object(3)\n",
      "memory usage: 156.4+ KB\n"
     ]
    }
   ],
   "source": [
    "df.info()"
   ]
  },
  {
   "cell_type": "code",
   "execution_count": 31,
   "metadata": {},
   "outputs": [
    {
     "name": "stdout",
     "output_type": "stream",
     "text": [
      "<class 'pandas.core.frame.DataFrame'>\n",
      "RangeIndex: 100000 entries, 0 to 99999\n",
      "Data columns (total 19 columns):\n",
      " #   Column                 Non-Null Count   Dtype \n",
      "---  ------                 --------------   ----- \n",
      " 0   vendorid               63899 non-null   object\n",
      " 1   lpep_pickup_datetime   100000 non-null  object\n",
      " 2   lpep_dropoff_datetime  100000 non-null  object\n",
      " 3   store_and_fwd_flag     63899 non-null   object\n",
      " 4   ratecodeid             63899 non-null   object\n",
      " 5   pulocationid           100000 non-null  object\n",
      " 6   dolocationid           100000 non-null  object\n",
      " 7   passenger_count        63899 non-null   object\n",
      " 8   trip_distance          100000 non-null  object\n",
      " 9   fare_amount            100000 non-null  object\n",
      " 10  extra                  100000 non-null  object\n",
      " 11  mta_tax                100000 non-null  object\n",
      " 12  tip_amount             100000 non-null  object\n",
      " 13  tolls_amount           100000 non-null  object\n",
      " 14  improvement_surcharge  100000 non-null  object\n",
      " 15  total_amount           100000 non-null  object\n",
      " 16  payment_type           63899 non-null   object\n",
      " 17  trip_type              63899 non-null   object\n",
      " 18  congestion_surcharge   63899 non-null   object\n",
      "dtypes: object(19)\n",
      "memory usage: 14.5+ MB\n"
     ]
    }
   ],
   "source": [
    "ingest.green_taxi_data.info()"
   ]
  },
  {
   "cell_type": "code",
   "execution_count": 49,
   "metadata": {},
   "outputs": [
    {
     "data": {
      "text/plain": [
       "1.0"
      ]
     },
     "execution_count": 49,
     "metadata": {},
     "output_type": "execute_result"
    }
   ],
   "source": [
    "ingest.green_taxi_data.passenger_count.median"
   ]
  },
  {
   "cell_type": "code",
   "execution_count": 24,
   "metadata": {},
   "outputs": [
    {
     "data": {
      "text/plain": [
       "vendorid                 36101\n",
       "lpep_pickup_datetime         0\n",
       "lpep_dropoff_datetime        0\n",
       "store_and_fwd_flag       36101\n",
       "ratecodeid               36101\n",
       "pulocationid                 0\n",
       "dolocationid                 0\n",
       "passenger_count          36101\n",
       "trip_distance                0\n",
       "fare_amount                  0\n",
       "extra                        0\n",
       "mta_tax                      0\n",
       "tip_amount                   0\n",
       "tolls_amount                 0\n",
       "improvement_surcharge        0\n",
       "total_amount                 0\n",
       "payment_type             36101\n",
       "trip_type                36101\n",
       "congestion_surcharge     36101\n",
       "dtype: int64"
      ]
     },
     "execution_count": 24,
     "metadata": {},
     "output_type": "execute_result"
    }
   ],
   "source": [
    "ingest.green_taxi_data.isna().sum()"
   ]
  },
  {
   "cell_type": "code",
   "execution_count": 4,
   "metadata": {},
   "outputs": [],
   "source": [
    "# client = Socrata(\"data.cityofnewyork.us\", None)\n",
    "# results = client.get(\"djnb-wcxt\", limit=100000)\n",
    "# green_taxi_2021_api = pd.DataFrame.from_records(results)"
   ]
  },
  {
   "cell_type": "code",
   "execution_count": null,
   "metadata": {},
   "outputs": [],
   "source": [
    "\"djnb-wcxt\""
   ]
  },
  {
   "cell_type": "code",
   "execution_count": 59,
   "metadata": {},
   "outputs": [],
   "source": [
    "class IngestData:\n",
    "\n",
    "    def __init__(self, files_green=None, files_yellow=None, green_api=\"djnb-wcxt\"):\n",
    "        self.files_green = files_green\n",
    "        self.files_yellow = files_yellow\n",
    "        self.green_taxi_data = None\n",
    "        self.yellow_taxi_data = None\n",
    "        self.green_api = green_api\n",
    "\n",
    "    def read_green_taxi_from_api(self, limit):\n",
    "        client = Socrata(\"data.cityofnewyork.us\", None)\n",
    "        results = client.get(self.green_api, limit=limit)\n",
    "        self.green_taxi_data= pd.DataFrame.from_records(results)   \n",
    "\n",
    "\n",
    "    def read_data_green(self, files):\n",
    "        self.green_taxi_data = pd.concat([pd.read_parquet(file) for file in files])\n",
    "        \n",
    "\n",
    "    def read_data_yellow(self, files):\n",
    "        self.yellow_taxi_data = pd.concat([pd.read_parquet(file) for file in files])\n",
    "\n",
    "    def fill_na(self):\n",
    "        self.green_taxi_data.passenger_count.fillna(self.green_taxi_data.passenger_count.median(), inplace=True)\n",
    "\n",
    "    def change_types(self):\n",
    "        self.green_taxi_data['PULocationID'] = self.green_taxi_data['pulocationid'].astype('int64')\n",
    "        self.green_taxi_data['DOLocationID'] = self.green_taxi_data['dolocationid'].astype('int64')\n",
    "        self.green_taxi_data['fare_amount'] = self.green_taxi_data['fare_amount'].astype('float64')\n",
    "        self.green_taxi_data['total_amount'] = self.green_taxi_data['total_amount'].astype('float64')\n",
    "        self.green_taxi_data['passenger_count'] = self.green_taxi_data['passenger_count'].astype('int64')\n",
    "        self.green_taxi_data['trip_distance'] = self.green_taxi_data['trip_distance'].astype('float64')\n",
    "        \n",
    "        \n",
    "    def create_target(self):\n",
    "            # self.yellow_taxi_data['tpep_pickup_datetime'] = pd.to_datetime(self.yellow_taxi_data['tpep_pickup_datetime'])\n",
    "            # self.yellow_taxi_data['tpep_dropoff_datetime'] = pd.to_datetime(self.yellow_taxi_data['tpep_dropoff_datetime'])\n",
    "\n",
    "            # self.yellow_taxi_data['trip_duration'] = self.yellow_taxi_data['tpep_dropoff_datetime'] - self.yellow_taxi_data['tpep_pickup_datetime']\n",
    "            # self.yellow_taxi_data['trip_duration'] = self.yellow_taxi_data['trip_duration'].dt.total_seconds()\n",
    "\n",
    "            self.green_taxi_data['lpep_pickup_datetime'] = pd.to_datetime(self.green_taxi_data['lpep_pickup_datetime'])\n",
    "            self.green_taxi_data['lpep_dropoff_datetime'] = pd.to_datetime(self.green_taxi_data['lpep_dropoff_datetime'])\n",
    "\n",
    "            self.green_taxi_data['trip_duration'] = self.green_taxi_data['lpep_dropoff_datetime'] - self.green_taxi_data['lpep_pickup_datetime']\n",
    "            self.green_taxi_data['trip_duration'] = self.green_taxi_data['trip_duration'].dt.total_seconds()\n",
    "\n",
    "    # def dropping_cols(self):\n",
    "        # cols_to_keep = ['trip_distance', 'passenger_count', 'trip_duration', \"store_and_fwd_flag\", \"VendorID\"]\n",
    "\n",
    "        # cols_to_drop_yellow = [col for col in self.yellow_taxi_data.columns if col not in cols_to_keep]\n",
    "        # self.yellow_taxi_data.drop(columns=cols_to_drop_yellow, axis =1,  inplace=True)\n",
    "\n",
    "        # cols_to_drop_green = [col for col in self.yellow_taxi_data.columns if col not in cols_to_keep]\n",
    "        # self.green_taxi_data.drop(columns=cols_to_drop_green, axis=1,  inplace=True)\n",
    "\n",
    "        # self.yellow_taxi_data = self.yellow_taxi_data[['trip_distance', 'passenger_count', 'trip_duration', \"store_and_fwd_flag\", \"VendorID\"]]\n",
    "        # self.green_taxi_data = self.green_taxi_data[['trip_distance', 'passenger_count', 'trip_duration', \"store_and_fwd_flag\", \"VendorID\"]]\n",
    "\n",
    "        \n",
    "    def dup_and_miss(self):\n",
    "        # print(f\"Number of duplicated rows in yellow taxi data: {self.yellow_taxi_data.duplicated().sum()}\")\n",
    "        # print(f\"Number of NA rows in yellow taxi data: {self.yellow_taxi_data.isna().sum().sum()}\")\n",
    "        print(f\"Number of duplicated rows in green taxi data: {self.green_taxi_data.duplicated().sum()}\")\n",
    "        print(f\"Number of NA rows in green taxi data: {self.green_taxi_data.isna().sum().sum()}\")\n",
    "\n",
    "\n",
    "    def outlier_removal(self):\n",
    "        # self.yellow_taxi_data = self.yellow_taxi_data[(self.yellow_taxi_data.trip_duration < 5600)]\n",
    "        # self.yellow_taxi_data = self.yellow_taxi_data[(self.yellow_taxi_data.trip_duration > 0)]\n",
    "        # self.yellow_taxi_data = self.yellow_taxi_data[(self.yellow_taxi_data.passenger_count > 0)]\n",
    "        # self.yellow_taxi_data = self.yellow_taxi_data[(self.yellow_taxi_data.trip_distance < 50000)]\n",
    "        # self.yellow_taxi_data = self.yellow_taxi_data[(self.yellow_taxi_data.fare_amount < 50000)]\n",
    "        # self.yellow_taxi_data = self.yellow_taxi_data[(self.yellow_taxi_data.total_amount < 50000)]\n",
    "\n",
    "\n",
    "\n",
    "\n",
    "        self.green_taxi_data = self.green_taxi_data[(self.green_taxi_data.trip_duration < 5600)]\n",
    "        self.green_taxi_data = self.green_taxi_data[(self.green_taxi_data.trip_duration > 0)]\n",
    "        self.green_taxi_data = self.green_taxi_data[(self.green_taxi_data.passenger_count > 0)]\n",
    "        self.green_taxi_data = self.green_taxi_data[(self.green_taxi_data.trip_distance < 50000)]\n",
    "        self.green_taxi_data = self.green_taxi_data[(self.green_taxi_data.fare_amount < 50000)]\n",
    "        self.green_taxi_data = self.green_taxi_data[(self.green_taxi_data.total_amount < 50000)]\n",
    "\n"
   ]
  },
  {
   "cell_type": "code",
   "execution_count": 60,
   "metadata": {},
   "outputs": [
    {
     "name": "stderr",
     "output_type": "stream",
     "text": [
      "WARNING:root:Requests made without an app_token will be subject to strict throttling limits.\n"
     ]
    }
   ],
   "source": [
    "ingest = IngestData()\n",
    "ingest.read_green_taxi_from_api(1000)"
   ]
  },
  {
   "cell_type": "code",
   "execution_count": 61,
   "metadata": {},
   "outputs": [
    {
     "name": "stdout",
     "output_type": "stream",
     "text": [
      "Number of duplicated rows in green taxi data: 0\n",
      "Number of NA rows in green taxi data: 12\n"
     ]
    }
   ],
   "source": [
    "ingest.fill_na()\n",
    "ingest.change_types()\n",
    "ingest.create_target()\n",
    "ingest.dup_and_miss()\n",
    "ingest.outlier_removal()\n"
   ]
  },
  {
   "cell_type": "code",
   "execution_count": null,
   "metadata": {},
   "outputs": [],
   "source": []
  }
 ],
 "metadata": {
  "kernelspec": {
   "display_name": "base",
   "language": "python",
   "name": "python3"
  },
  "language_info": {
   "codemirror_mode": {
    "name": "ipython",
    "version": 3
   },
   "file_extension": ".py",
   "mimetype": "text/x-python",
   "name": "python",
   "nbconvert_exporter": "python",
   "pygments_lexer": "ipython3",
   "version": "3.9.13 (main, Aug 25 2022, 23:51:50) [MSC v.1916 64 bit (AMD64)]"
  },
  "orig_nbformat": 4,
  "vscode": {
   "interpreter": {
    "hash": "93fc3b888e0cb9ffa465d85c091164963bd0d6f37310da138d470df672e240d6"
   }
  }
 },
 "nbformat": 4,
 "nbformat_minor": 2
}
