{
 "cells": [
  {
   "cell_type": "code",
   "execution_count": 5,
   "metadata": {},
   "outputs": [],
   "source": [
    "import pandas as pd"
   ]
  },
  {
   "cell_type": "code",
   "execution_count": 6,
   "metadata": {},
   "outputs": [],
   "source": [
    "class DataPrep:\n",
    "    def __init__(self, file):\n",
    "        import pandas as pd\n",
    "        data = pd.read_csv(file)\n",
    "        self.data = data\n",
    "\n",
    "    def change_to_datetime(self):\n",
    "        self.data.pickup_datetime = pd.to_datetime(self.data.pickup_datetime)\n",
    "        try:\n",
    "            self.data.dropoff_datetime = pd.to_datetime(self.data.dropoff_datetime)\n",
    "        except AttributeError:\n",
    "            pass\n",
    "    # Feature is already created in kaggle dataset\n",
    "\n",
    "    # def target_creation(self):\n",
    "    #     self.data['trip_duration'] = self.data['dropoff_datetime'] - self.data['pickup_datetime']\n",
    "    #     self.data['trip_duration'] = self.data['trip_duration'].dt.total_seconds()\n",
    "        \n",
    "    def dup_and_miss(self):\n",
    "        print(f\"Number of duplicated rows: {self.data.duplicated().sum()}\")\n",
    "        print(f\"Number of NA rows: {self.data.isna().sum().sum()}\")\n",
    "\n",
    "    def outlier_removal(self):\n",
    "        self.data = self.data[(self.data.trip_duration < 5600)]\n",
    "        self.data = self.data[(self.data.trip_duration > 0)]\n",
    "        self.data = self.data[(self.data.passenger_count > 0)]"
   ]
  },
  {
   "cell_type": "code",
   "execution_count": 7,
   "metadata": {},
   "outputs": [],
   "source": [
    "class DataPrepTest:\n",
    "    def __init__(self, file):\n",
    "        import pandas as pd\n",
    "        data = pd.read_csv(file)\n",
    "        self.data = data\n",
    "\n",
    "    def change_to_datetime(self):\n",
    "        self.data.pickup_datetime = pd.to_datetime(self.data.pickup_datetime)\n",
    "        # try:\n",
    "        #     self.data.dropoff_datetime = pd.to_datetime(self.data.dropoff_datetime)\n",
    "        # except AttributeError:\n",
    "        #     pass\n",
    "    # Feature is already created in kaggle dataset\n",
    "\n",
    "    # def target_creation(self):\n",
    "    #     self.data['trip_duration'] = self.data['dropoff_datetime'] - self.data['pickup_datetime']\n",
    "    #     self.data['trip_duration'] = self.data['trip_duration'].dt.total_seconds()\n",
    "        \n",
    "    def dup_and_miss(self):\n",
    "        print(f\"Number of duplicated rows: {self.data.duplicated().sum()}\")\n",
    "        print(f\"Number of NA rows: {self.data.isna().sum().sum()}\")\n",
    "\n",
    "    # def outlier_removal(self):\n",
    "    #     # self.data = self.data[(self.data.trip_duration < 5600)]\n",
    "    #     # self.data = self.data[(self.data.trip_duration > 0)]\n",
    "    #     self.data = self.data[(self.data.passenger_count > 0)]"
   ]
  },
  {
   "cell_type": "code",
   "execution_count": 8,
   "metadata": {},
   "outputs": [
    {
     "name": "stdout",
     "output_type": "stream",
     "text": [
      "Number of duplicated rows: 0\n",
      "Number of NA rows: 0\n"
     ]
    }
   ],
   "source": [
    "prep = DataPrep('train.csv')\n",
    "prep.change_to_datetime()\n",
    "prep.dup_and_miss()\n",
    "prep.outlier_removal()"
   ]
  },
  {
   "cell_type": "code",
   "execution_count": 9,
   "metadata": {},
   "outputs": [
    {
     "name": "stdout",
     "output_type": "stream",
     "text": [
      "Number of duplicated rows: 0\n",
      "Number of NA rows: 0\n"
     ]
    }
   ],
   "source": [
    "test_prep = DataPrepTest('test.csv')\n",
    "test_prep.change_to_datetime()\n",
    "test_prep.dup_and_miss()\n"
   ]
  },
  {
   "cell_type": "code",
   "execution_count": 10,
   "metadata": {},
   "outputs": [],
   "source": [
    "class FeatureEngineering:\n",
    "\n",
    "    def __init__(self, prep):\n",
    "        self.data = prep.data\n",
    "        \n",
    "    def one_hot(self):\n",
    "        self.data = pd.concat([self.data, pd.get_dummies(self.data['store_and_fwd_flag'])], axis=1)\n",
    "        self.data = pd.concat([self.data, pd.get_dummies(self.data['vendor_id'])], axis=1)\n",
    "        self.data.drop(['store_and_fwd_flag'], axis=1, inplace=True)\n",
    "        self.data.drop(['vendor_id'], axis=1, inplace=True)\n",
    "\n",
    "    def date_features(self):\n",
    "        self.data['month'] = self.data.pickup_datetime.dt.month\n",
    "        self.data['day'] = self.data.pickup_datetime.dt.day\n",
    "        self.data['hour'] = self.data.pickup_datetime.dt.hour\n",
    "        self.data['minute'] = self.data.pickup_datetime.dt.minute\n",
    "        self.data['day_of_week'] = self.data.pickup_datetime.dt.dayofweek\n",
    "        # self.data['week'] = self.data.pickup_datetime.dt.isocalendar().week\n",
    "        self.data['weekday'] = self.data.pickup_datetime.dt.weekday\n",
    "        return self.data.info()\n",
    "\n",
    "    def drop_cols(self):\n",
    "        try:\n",
    "            self.data = self.data.drop(['dropoff_datetime'], axis=1)\n",
    "        except KeyError:\n",
    "            pass\n",
    "        self.data = self.data.drop(['pickup_datetime'], axis=1)\n",
    "        # self.data = self.data.drop(['id'], axis=1)\n",
    "\n",
    "        # # These cols don't exist in the kaggle dataset\n",
    "        # # self.data = self.data.drop(['DOLocationID'], axis=1)\n",
    "        # # self.data = self.data.drop(['PULocationID'], axis=1)\n",
    "        # # self.data = self.data.drop(['airport_fee'], axis=1)\n",
    "        # # self.data = self.data.drop(['RatecodeID'], axis=1)\n",
    "        # # self.data = self.data.drop(['congestion_surcharge'], axis=1)\n",
    "        # self.data = self.data.drop(['passenger_count'], axis=1)\n",
    "\n"
   ]
  },
  {
   "cell_type": "code",
   "execution_count": 11,
   "metadata": {},
   "outputs": [],
   "source": [
    "test_fe = FeatureEngineering(test_prep)\n"
   ]
  },
  {
   "cell_type": "code",
   "execution_count": 12,
   "metadata": {},
   "outputs": [],
   "source": [
    "test_fe.one_hot()\n"
   ]
  },
  {
   "cell_type": "code",
   "execution_count": 13,
   "metadata": {},
   "outputs": [
    {
     "name": "stdout",
     "output_type": "stream",
     "text": [
      "<class 'pandas.core.frame.DataFrame'>\n",
      "RangeIndex: 625134 entries, 0 to 625133\n",
      "Data columns (total 17 columns):\n",
      " #   Column             Non-Null Count   Dtype         \n",
      "---  ------             --------------   -----         \n",
      " 0   id                 625134 non-null  object        \n",
      " 1   pickup_datetime    625134 non-null  datetime64[ns]\n",
      " 2   passenger_count    625134 non-null  int64         \n",
      " 3   pickup_longitude   625134 non-null  float64       \n",
      " 4   pickup_latitude    625134 non-null  float64       \n",
      " 5   dropoff_longitude  625134 non-null  float64       \n",
      " 6   dropoff_latitude   625134 non-null  float64       \n",
      " 7   N                  625134 non-null  uint8         \n",
      " 8   Y                  625134 non-null  uint8         \n",
      " 9   1                  625134 non-null  uint8         \n",
      " 10  2                  625134 non-null  uint8         \n",
      " 11  month              625134 non-null  int64         \n",
      " 12  day                625134 non-null  int64         \n",
      " 13  hour               625134 non-null  int64         \n",
      " 14  minute             625134 non-null  int64         \n",
      " 15  day_of_week        625134 non-null  int64         \n",
      " 16  weekday            625134 non-null  int64         \n",
      "dtypes: datetime64[ns](1), float64(4), int64(7), object(1), uint8(4)\n",
      "memory usage: 64.4+ MB\n"
     ]
    }
   ],
   "source": [
    "test_fe.date_features()\n"
   ]
  },
  {
   "cell_type": "code",
   "execution_count": 14,
   "metadata": {},
   "outputs": [],
   "source": [
    "test_fe.drop_cols()"
   ]
  },
  {
   "cell_type": "code",
   "execution_count": 15,
   "metadata": {},
   "outputs": [
    {
     "name": "stdout",
     "output_type": "stream",
     "text": [
      "<class 'pandas.core.frame.DataFrame'>\n",
      "Int64Index: 1455721 entries, 0 to 1458643\n",
      "Data columns (total 19 columns):\n",
      " #   Column             Non-Null Count    Dtype         \n",
      "---  ------             --------------    -----         \n",
      " 0   id                 1455721 non-null  object        \n",
      " 1   pickup_datetime    1455721 non-null  datetime64[ns]\n",
      " 2   dropoff_datetime   1455721 non-null  datetime64[ns]\n",
      " 3   passenger_count    1455721 non-null  int64         \n",
      " 4   pickup_longitude   1455721 non-null  float64       \n",
      " 5   pickup_latitude    1455721 non-null  float64       \n",
      " 6   dropoff_longitude  1455721 non-null  float64       \n",
      " 7   dropoff_latitude   1455721 non-null  float64       \n",
      " 8   trip_duration      1455721 non-null  int64         \n",
      " 9   N                  1455721 non-null  uint8         \n",
      " 10  Y                  1455721 non-null  uint8         \n",
      " 11  1                  1455721 non-null  uint8         \n",
      " 12  2                  1455721 non-null  uint8         \n",
      " 13  month              1455721 non-null  int64         \n",
      " 14  day                1455721 non-null  int64         \n",
      " 15  hour               1455721 non-null  int64         \n",
      " 16  minute             1455721 non-null  int64         \n",
      " 17  day_of_week        1455721 non-null  int64         \n",
      " 18  weekday            1455721 non-null  int64         \n",
      "dtypes: datetime64[ns](2), float64(4), int64(8), object(1), uint8(4)\n",
      "memory usage: 183.3+ MB\n"
     ]
    }
   ],
   "source": [
    "fe = FeatureEngineering(prep)\n",
    "fe.one_hot()\n",
    "fe.date_features()\n",
    "fe.drop_cols()"
   ]
  },
  {
   "cell_type": "code",
   "execution_count": 16,
   "metadata": {},
   "outputs": [],
   "source": [
    "from sklearn.model_selection import train_test_split\n",
    "\n",
    "\n",
    "class Model:\n",
    "\n",
    "    def __init__(self, fe):\n",
    "        self.data = fe.data\n",
    "\n",
    "    def train_test_split(self):\n",
    "        y = self.data['trip_duration']\n",
    "        X = self.data.drop(['trip_duration', 'id'], axis=1)\n",
    "        X_train, X_test, y_train, y_test = train_test_split(X, y, test_size=0.2, random_state=42)\n",
    "        return X_train, X_test, y_train, y_test\n",
    "\n",
    "    def random_forest(self):\n",
    "        from sklearn.ensemble import RandomForestRegressor\n",
    "        rf = RandomForestRegressor()\n",
    "        rf.fit(X_train, y_train)\n",
    "        y_pred = rf.predict(X_test)\n",
    "        print(f\"Random Forest RMSE: {mean_squared_error(y_test, y_pred, squared=False)}\")\n",
    "\n",
    "    def light_gbm(self):\n",
    "        from sklearn.metrics import mean_squared_error as MSE\n",
    "        import lightgbm as lgb\n",
    "        from lightgbm import LGBMRegressor\n",
    "        import numpy as np\n",
    "        lgbm = lgb.LGBMRegressor()\n",
    "        lgbm.fit(X_train, y_train)\n",
    "        print(lgbm.score(X_train, y_train), lgbm.score(X_test, y_test))\n",
    "        print(f\"MSE: {np.sqrt(MSE(y_test, lgbm.predict(X_test)))}\")\n",
    "       \n",
    "\n",
    "    def light_preds(self):\n",
    "        import numpy as np\n",
    "        import lightgbm as lgb\n",
    "        from lightgbm import LGBMRegressor\n",
    "        lgbm = lgb.LGBMRegressor()\n",
    "        lgbm.fit(X_train, y_train)\n",
    "        test_x_data = test_fe.data.drop(['id'], axis = 1)\n",
    "        preds = lgbm.predict(test_x_data)\n",
    "        print(preds.shape)\n",
    "        return preds\n",
    "\n",
    "    def lrrr(self):\n",
    "        from sklearn.linear_model import LinearRegression\n",
    "        lr = LinearRegression()\n",
    "        lr.fit(X_train, y_train)\n",
    "        print(lr.score(X_train, y_train), lr.score(X_test, y_test))\n",
    "        print(f\"Linear Regression RMSE: {mean_squared_error(y_test, lr.predict(X_test), squared=False)}\")\n"
   ]
  },
  {
   "cell_type": "code",
   "execution_count": 17,
   "metadata": {},
   "outputs": [
    {
     "name": "stdout",
     "output_type": "stream",
     "text": [
      "0.7534109573529395 0.755279669413204\n",
      "MSE: 318.92042732078653\n"
     ]
    }
   ],
   "source": [
    "model = Model(fe)\n",
    "\n",
    "X_train, X_test, y_train, y_test = model.train_test_split()\n",
    "model.light_gbm()"
   ]
  },
  {
   "cell_type": "code",
   "execution_count": 18,
   "metadata": {},
   "outputs": [
    {
     "name": "stdout",
     "output_type": "stream",
     "text": [
      "(625134,)\n"
     ]
    },
    {
     "data": {
      "text/plain": [
       "array([ 731.19844802,  595.60212724,  545.68000925, ..., 1358.77518918,\n",
       "       1780.41291636, 1003.33188942])"
      ]
     },
     "execution_count": 18,
     "metadata": {},
     "output_type": "execute_result"
    }
   ],
   "source": [
    "preds = model.light_preds()\n",
    "preds"
   ]
  },
  {
   "cell_type": "code",
   "execution_count": 19,
   "metadata": {},
   "outputs": [
    {
     "data": {
      "text/html": [
       "<div>\n",
       "<style scoped>\n",
       "    .dataframe tbody tr th:only-of-type {\n",
       "        vertical-align: middle;\n",
       "    }\n",
       "\n",
       "    .dataframe tbody tr th {\n",
       "        vertical-align: top;\n",
       "    }\n",
       "\n",
       "    .dataframe thead th {\n",
       "        text-align: right;\n",
       "    }\n",
       "</style>\n",
       "<table border=\"1\" class=\"dataframe\">\n",
       "  <thead>\n",
       "    <tr style=\"text-align: right;\">\n",
       "      <th></th>\n",
       "      <th>id</th>\n",
       "      <th>trip_duration</th>\n",
       "    </tr>\n",
       "  </thead>\n",
       "  <tbody>\n",
       "    <tr>\n",
       "      <th>0</th>\n",
       "      <td>id3004672</td>\n",
       "      <td>731.198448</td>\n",
       "    </tr>\n",
       "    <tr>\n",
       "      <th>1</th>\n",
       "      <td>id3505355</td>\n",
       "      <td>595.602127</td>\n",
       "    </tr>\n",
       "    <tr>\n",
       "      <th>2</th>\n",
       "      <td>id1217141</td>\n",
       "      <td>545.680009</td>\n",
       "    </tr>\n",
       "    <tr>\n",
       "      <th>3</th>\n",
       "      <td>id2150126</td>\n",
       "      <td>999.437783</td>\n",
       "    </tr>\n",
       "    <tr>\n",
       "      <th>4</th>\n",
       "      <td>id1598245</td>\n",
       "      <td>469.483720</td>\n",
       "    </tr>\n",
       "  </tbody>\n",
       "</table>\n",
       "</div>"
      ],
      "text/plain": [
       "          id  trip_duration\n",
       "0  id3004672     731.198448\n",
       "1  id3505355     595.602127\n",
       "2  id1217141     545.680009\n",
       "3  id2150126     999.437783\n",
       "4  id1598245     469.483720"
      ]
     },
     "execution_count": 19,
     "metadata": {},
     "output_type": "execute_result"
    }
   ],
   "source": [
    "sub = pd.DataFrame({'id': test_fe.data.id, 'trip_duration': preds})\n",
    "sub.head()"
   ]
  },
  {
   "cell_type": "code",
   "execution_count": 20,
   "metadata": {},
   "outputs": [],
   "source": [
    "sub.to_csv(\"sub.csv\", index = False)"
   ]
  },
  {
   "cell_type": "code",
   "execution_count": 21,
   "metadata": {},
   "outputs": [
    {
     "data": {
      "text/html": [
       "<div>\n",
       "<style scoped>\n",
       "    .dataframe tbody tr th:only-of-type {\n",
       "        vertical-align: middle;\n",
       "    }\n",
       "\n",
       "    .dataframe tbody tr th {\n",
       "        vertical-align: top;\n",
       "    }\n",
       "\n",
       "    .dataframe thead th {\n",
       "        text-align: right;\n",
       "    }\n",
       "</style>\n",
       "<table border=\"1\" class=\"dataframe\">\n",
       "  <thead>\n",
       "    <tr style=\"text-align: right;\">\n",
       "      <th></th>\n",
       "      <th>id</th>\n",
       "      <th>trip_duration</th>\n",
       "    </tr>\n",
       "  </thead>\n",
       "  <tbody>\n",
       "    <tr>\n",
       "      <th>0</th>\n",
       "      <td>id3004672</td>\n",
       "      <td>731.198448</td>\n",
       "    </tr>\n",
       "    <tr>\n",
       "      <th>1</th>\n",
       "      <td>id3505355</td>\n",
       "      <td>595.602127</td>\n",
       "    </tr>\n",
       "    <tr>\n",
       "      <th>2</th>\n",
       "      <td>id1217141</td>\n",
       "      <td>545.680009</td>\n",
       "    </tr>\n",
       "    <tr>\n",
       "      <th>3</th>\n",
       "      <td>id2150126</td>\n",
       "      <td>999.437783</td>\n",
       "    </tr>\n",
       "    <tr>\n",
       "      <th>4</th>\n",
       "      <td>id1598245</td>\n",
       "      <td>469.483720</td>\n",
       "    </tr>\n",
       "    <tr>\n",
       "      <th>5</th>\n",
       "      <td>id0668992</td>\n",
       "      <td>786.484782</td>\n",
       "    </tr>\n",
       "    <tr>\n",
       "      <th>6</th>\n",
       "      <td>id1765014</td>\n",
       "      <td>1112.852261</td>\n",
       "    </tr>\n",
       "    <tr>\n",
       "      <th>7</th>\n",
       "      <td>id0898117</td>\n",
       "      <td>621.744437</td>\n",
       "    </tr>\n",
       "    <tr>\n",
       "      <th>8</th>\n",
       "      <td>id3905224</td>\n",
       "      <td>2251.095900</td>\n",
       "    </tr>\n",
       "    <tr>\n",
       "      <th>9</th>\n",
       "      <td>id1543102</td>\n",
       "      <td>566.961884</td>\n",
       "    </tr>\n",
       "    <tr>\n",
       "      <th>10</th>\n",
       "      <td>id3024712</td>\n",
       "      <td>809.723165</td>\n",
       "    </tr>\n",
       "    <tr>\n",
       "      <th>11</th>\n",
       "      <td>id3665810</td>\n",
       "      <td>507.045307</td>\n",
       "    </tr>\n",
       "    <tr>\n",
       "      <th>12</th>\n",
       "      <td>id1836461</td>\n",
       "      <td>477.312322</td>\n",
       "    </tr>\n",
       "    <tr>\n",
       "      <th>13</th>\n",
       "      <td>id3457080</td>\n",
       "      <td>734.214670</td>\n",
       "    </tr>\n",
       "    <tr>\n",
       "      <th>14</th>\n",
       "      <td>id3376065</td>\n",
       "      <td>1089.233947</td>\n",
       "    </tr>\n",
       "    <tr>\n",
       "      <th>15</th>\n",
       "      <td>id3008739</td>\n",
       "      <td>729.295115</td>\n",
       "    </tr>\n",
       "    <tr>\n",
       "      <th>16</th>\n",
       "      <td>id0902216</td>\n",
       "      <td>832.819659</td>\n",
       "    </tr>\n",
       "    <tr>\n",
       "      <th>17</th>\n",
       "      <td>id3564824</td>\n",
       "      <td>591.870828</td>\n",
       "    </tr>\n",
       "    <tr>\n",
       "      <th>18</th>\n",
       "      <td>id0820280</td>\n",
       "      <td>329.422018</td>\n",
       "    </tr>\n",
       "    <tr>\n",
       "      <th>19</th>\n",
       "      <td>id0775088</td>\n",
       "      <td>992.220300</td>\n",
       "    </tr>\n",
       "  </tbody>\n",
       "</table>\n",
       "</div>"
      ],
      "text/plain": [
       "           id  trip_duration\n",
       "0   id3004672     731.198448\n",
       "1   id3505355     595.602127\n",
       "2   id1217141     545.680009\n",
       "3   id2150126     999.437783\n",
       "4   id1598245     469.483720\n",
       "5   id0668992     786.484782\n",
       "6   id1765014    1112.852261\n",
       "7   id0898117     621.744437\n",
       "8   id3905224    2251.095900\n",
       "9   id1543102     566.961884\n",
       "10  id3024712     809.723165\n",
       "11  id3665810     507.045307\n",
       "12  id1836461     477.312322\n",
       "13  id3457080     734.214670\n",
       "14  id3376065    1089.233947\n",
       "15  id3008739     729.295115\n",
       "16  id0902216     832.819659\n",
       "17  id3564824     591.870828\n",
       "18  id0820280     329.422018\n",
       "19  id0775088     992.220300"
      ]
     },
     "execution_count": 21,
     "metadata": {},
     "output_type": "execute_result"
    }
   ],
   "source": [
    "sub_test = pd.read_csv('sub.csv')\n",
    "sub_test.head(20)"
   ]
  },
  {
   "cell_type": "code",
   "execution_count": null,
   "metadata": {},
   "outputs": [],
   "source": []
  }
 ],
 "metadata": {
  "kernelspec": {
   "display_name": "base",
   "language": "python",
   "name": "python3"
  },
  "language_info": {
   "codemirror_mode": {
    "name": "ipython",
    "version": 3
   },
   "file_extension": ".py",
   "mimetype": "text/x-python",
   "name": "python",
   "nbconvert_exporter": "python",
   "pygments_lexer": "ipython3",
   "version": "3.9.13"
  },
  "orig_nbformat": 4,
  "vscode": {
   "interpreter": {
    "hash": "93fc3b888e0cb9ffa465d85c091164963bd0d6f37310da138d470df672e240d6"
   }
  }
 },
 "nbformat": 4,
 "nbformat_minor": 2
}
